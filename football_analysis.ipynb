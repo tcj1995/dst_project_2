{
 "cells": [
  {
   "cell_type": "markdown",
   "metadata": {},
   "source": [
    "Football (or soccer to my American readers) is full of clichés: \"It's a game of two halves\", \"taking it one game at a time\" and \"Liverpool have failed to win the Premier League\". You're less likely to hear \"Treating the number of goals scored by each team as independent Poisson processes, statistical modelling suggests that the home team have a 60% chance of winning today\""
   ]
  },
  {
   "cell_type": "code",
   "execution_count": 1,
   "metadata": {},
   "outputs": [],
   "source": [
    "import pandas as pd\n",
    "import matplotlib.pyplot as plt\n",
    "import numpy as np\n",
    "import seaborn\n",
    "from scipy.stats import poisson,skellam\n",
    "from IPython.core.pylabtools import figsize\n",
    "import statsmodels.api as sm\n",
    "import statsmodels.formula.api as smf"
   ]
  },
  {
   "cell_type": "markdown",
   "metadata": {},
   "source": [
    "## Dataset and motivation slide"
   ]
  },
  {
   "cell_type": "markdown",
   "metadata": {},
   "source": [
    "We'll import all match results from the recently concluded Premier League (2016/17) season. The model is founded on the number of goals scored/conceded by each team. Teams that have been higher scorers in the past have a greater likelihood of scoring goals in the future."
   ]
  },
  {
   "cell_type": "code",
   "execution_count": 2,
   "metadata": {},
   "outputs": [
    {
     "name": "stdout",
     "output_type": "stream",
     "text": [
      "Will not apply HSTS. The HSTS database must be a regular and non-world-writable file.\n",
      "ERROR: could not open HSTS store at '/home/chuanjie/.wget-hsts'. HSTS will be disabled.\n",
      "--2019-06-04 16:13:31--  http://www.football-data.co.uk/mmz4281/1617/E0.csv\n",
      "Resolving www.football-data.co.uk (www.football-data.co.uk)... 217.160.0.246\n",
      "Connecting to www.football-data.co.uk (www.football-data.co.uk)|217.160.0.246|:80... connected.\n",
      "HTTP request sent, awaiting response... 200 OK\n",
      "Length: 99990 (98K) [text/csv]\n",
      "Saving to: ‘E0.csv.2’\n",
      "\n",
      "E0.csv.2            100%[===================>]  97.65K   206KB/s    in 0.5s    \n",
      "\n",
      "2019-06-04 16:13:32 (206 KB/s) - ‘E0.csv.2’ saved [99990/99990]\n",
      "\n"
     ]
    }
   ],
   "source": [
    "!wget http://www.football-data.co.uk/mmz4281/1617/E0.csv"
   ]
  },
  {
   "cell_type": "code",
   "execution_count": 3,
   "metadata": {},
   "outputs": [
    {
     "data": {
      "text/html": [
       "<div>\n",
       "<style scoped>\n",
       "    .dataframe tbody tr th:only-of-type {\n",
       "        vertical-align: middle;\n",
       "    }\n",
       "\n",
       "    .dataframe tbody tr th {\n",
       "        vertical-align: top;\n",
       "    }\n",
       "\n",
       "    .dataframe thead th {\n",
       "        text-align: right;\n",
       "    }\n",
       "</style>\n",
       "<table border=\"1\" class=\"dataframe\">\n",
       "  <thead>\n",
       "    <tr style=\"text-align: right;\">\n",
       "      <th></th>\n",
       "      <th>HomeTeam</th>\n",
       "      <th>AwayTeam</th>\n",
       "      <th>HomeGoals</th>\n",
       "      <th>AwayGoals</th>\n",
       "    </tr>\n",
       "  </thead>\n",
       "  <tbody>\n",
       "    <tr>\n",
       "      <th>0</th>\n",
       "      <td>Burnley</td>\n",
       "      <td>Swansea</td>\n",
       "      <td>0</td>\n",
       "      <td>1</td>\n",
       "    </tr>\n",
       "    <tr>\n",
       "      <th>1</th>\n",
       "      <td>Crystal Palace</td>\n",
       "      <td>West Brom</td>\n",
       "      <td>0</td>\n",
       "      <td>1</td>\n",
       "    </tr>\n",
       "    <tr>\n",
       "      <th>2</th>\n",
       "      <td>Everton</td>\n",
       "      <td>Tottenham</td>\n",
       "      <td>1</td>\n",
       "      <td>1</td>\n",
       "    </tr>\n",
       "    <tr>\n",
       "      <th>3</th>\n",
       "      <td>Hull</td>\n",
       "      <td>Leicester</td>\n",
       "      <td>2</td>\n",
       "      <td>1</td>\n",
       "    </tr>\n",
       "    <tr>\n",
       "      <th>4</th>\n",
       "      <td>Man City</td>\n",
       "      <td>Sunderland</td>\n",
       "      <td>2</td>\n",
       "      <td>1</td>\n",
       "    </tr>\n",
       "  </tbody>\n",
       "</table>\n",
       "</div>"
      ],
      "text/plain": [
       "         HomeTeam    AwayTeam  HomeGoals  AwayGoals\n",
       "0         Burnley     Swansea          0          1\n",
       "1  Crystal Palace   West Brom          0          1\n",
       "2         Everton   Tottenham          1          1\n",
       "3            Hull   Leicester          2          1\n",
       "4        Man City  Sunderland          2          1"
      ]
     },
     "execution_count": 3,
     "metadata": {},
     "output_type": "execute_result"
    }
   ],
   "source": [
    "results = pd.read_csv(\"http://www.football-data.co.uk/mmz4281/1617/E0.csv\")\n",
    "results = results[['HomeTeam','AwayTeam','FTHG','FTAG']]\n",
    "results = results.rename(columns={'FTHG': 'HomeGoals', 'FTAG': 'AwayGoals'})\n",
    "results.head()"
   ]
  },
  {
   "cell_type": "code",
   "execution_count": 7,
   "metadata": {},
   "outputs": [
    {
     "data": {
      "text/plain": [
       "HomeTeam     object\n",
       "AwayTeam     object\n",
       "HomeGoals     int64\n",
       "AwayGoals     int64\n",
       "dtype: object"
      ]
     },
     "execution_count": 7,
     "metadata": {},
     "output_type": "execute_result"
    }
   ],
   "source": [
    "results.dtypes"
   ]
  },
  {
   "cell_type": "markdown",
   "metadata": {},
   "source": [
    "## Research Question\n",
    "Input: csv file \n",
    "\n",
    "We imported a csv as a pandas dataframe, which contains various information for each of the 380 EPL games in the 2016-17 English Premier League season. We restricted the dataframe to the columns in which we're interested (specifically, team names and number of goals scored by each team).\n",
    "\n",
    "Output: probability\n",
    "\n",
    "Our task is to model the match and get the probability of results between the two teams."
   ]
  },
  {
   "cell_type": "code",
   "execution_count": 5,
   "metadata": {},
   "outputs": [
    {
     "data": {
      "text/plain": [
       "HomeGoals    1.591892\n",
       "AwayGoals    1.183784\n",
       "dtype: float64"
      ]
     },
     "execution_count": 5,
     "metadata": {},
     "output_type": "execute_result"
    }
   ],
   "source": [
    "results.mean()"
   ]
  },
  {
   "cell_type": "markdown",
   "metadata": {},
   "source": [
    "on average, the home team scores more goals than the away team. This is the so called 'home (field) advantage' "
   ]
  },
  {
   "cell_type": "markdown",
   "metadata": {},
   "source": [
    "## The Poisson distribution. \n",
    "It's a discrete probability distribution that describes the probability of the number of events within a specific time period (e.g 90 mins) with a known average rate of occurrence. "
   ]
  },
  {
   "cell_type": "markdown",
   "metadata": {},
   "source": [
    "![jupyter](./math.svg)"
   ]
  },
  {
   "cell_type": "markdown",
   "metadata": {},
   "source": [
    "$\\lambda$ represents the average rate (e.g. average number of goals). So, we can treat the number of goals scored by the home and away team as two independent Poisson distributions. The plot below shows the proportion of goals scored compared to the number of goals estimated by the corresponding Poisson distributions."
   ]
  },
  {
   "cell_type": "code",
   "execution_count": 10,
   "metadata": {},
   "outputs": [
    {
     "data": {
      "text/plain": [
       "array([[2.03540171e-01, 3.06118259e-01],\n",
       "       [3.24013948e-01, 3.62377831e-01],\n",
       "       [2.57897589e-01, 2.14488500e-01],\n",
       "       [1.36848360e-01, 8.46360027e-02],\n",
       "       [5.44619487e-02, 2.50476819e-02],\n",
       "       [1.73395069e-02, 5.93020793e-03],\n",
       "       [4.60043674e-03, 1.17001400e-03],\n",
       "       [1.04619971e-03, 1.97863371e-04]])"
      ]
     },
     "execution_count": 10,
     "metadata": {},
     "output_type": "execute_result"
    }
   ],
   "source": [
    "# construct Poisson  for each mean goals value\n",
    "poisson_pred = np.column_stack([[poisson.pmf(i, results.mean()[j]) for i in range(8)] for j in range(2)])\n",
    "poisson_pred"
   ]
  },
  {
   "cell_type": "code",
   "execution_count": 61,
   "metadata": {},
   "outputs": [
    {
     "name": "stderr",
     "output_type": "stream",
     "text": [
      "/home/chuanjie/.local/lib/python3.6/site-packages/matplotlib/axes/_axes.py:6521: MatplotlibDeprecationWarning: \n",
      "The 'normed' kwarg was deprecated in Matplotlib 2.1 and will be removed in 3.1. Use 'density' instead.\n",
      "  alternative=\"'density'\", removal=\"3.1\")\n"
     ]
    },
    {
     "data": {
      "image/png": "[encoded data removed]",
      "text/plain": [
       "<Figure size 1080x360 with 1 Axes>"
      ]
     },
     "metadata": {
      "needs_background": "light"
     },
     "output_type": "display_data"
    }
   ],
   "source": [
    "# construct Poisson  for each mean goals value, plot histogram of actual goals and add lines for the Poisson distributions\n",
    "figsize(15, 5)\n",
    "plt.hist(results[['HomeGoals', 'AwayGoals']].values, range(9), alpha=0.7, label=['Home', 'Away'],normed=True)\n",
    "pois1 = plt.plot([i-0.5 for i in range(1,9)], poisson_pred[:,0],linestyle='-', marker='o',label = 'Home')\n",
    "pois2 = plt.plot([i-0.5 for i in range(1,9)], poisson_pred[:,1],linestyle='-', marker='o',label=\"Away\")\n",
    "leg=plt.legend(loc='upper right', fontsize=10,ncol=2)\n",
    "leg.set_title(\"Poisson           Actual        \", prop = {'size':'14', 'weight':'bold'})\n",
    "plt.xticks([i-0.5 for i in range(1,9)],[i for i in range(9)])\n",
    "plt.xlabel(\"Goals per Match\",size=1)\n",
    "plt.ylabel(\"Proportion of Matches\",size=13)\n",
    "plt.title(\"Number of Goals per Match (EPL 2016/17 Season)\",size=14,fontweight='bold')\n",
    "\n",
    "plt.show()"
   ]
  },
  {
   "cell_type": "markdown",
   "metadata": {},
   "source": [
    "Through this graph, we can say that although the specific probability between poisson and actual are different,but the trends of them are similar."
   ]
  },
  {
   "cell_type": "markdown",
   "metadata": {},
   "source": [
    "Note that we consider the number of goals scored by each team to be independent events (i.e. P(A n B) = P(A) P(B)). The difference of two Poisson distribution is actually called a Skellam distribution. So we can calculate the probability of a draw by inputting the mean goal values into this distribution."
   ]
  },
  {
   "cell_type": "code",
   "execution_count": 64,
   "metadata": {},
   "outputs": [
    {
     "data": {
      "text/plain": [
       "0.24809376810717076"
      ]
     },
     "execution_count": 64,
     "metadata": {},
     "output_type": "execute_result"
    }
   ],
   "source": [
    "# probability of draw between home and away team\n",
    "skellam.pmf(0.0,  results.mean()[0],  results.mean()[1])"
   ]
  },
  {
   "cell_type": "code",
   "execution_count": 65,
   "metadata": {},
   "outputs": [
    {
     "data": {
      "text/plain": [
       "0.22706765807563964"
      ]
     },
     "execution_count": 65,
     "metadata": {},
     "output_type": "execute_result"
    }
   ],
   "source": [
    "# probability of home team winning by one goal\n",
    "skellam.pmf(1,  results.mean()[0],  results.mean()[1])"
   ]
  },
  {
   "cell_type": "code",
   "execution_count": 12,
   "metadata": {},
   "outputs": [
    {
     "name": "stderr",
     "output_type": "stream",
     "text": [
      "/home/chuanjie/.local/lib/python3.6/site-packages/matplotlib/axes/_axes.py:6521: MatplotlibDeprecationWarning: \n",
      "The 'normed' kwarg was deprecated in Matplotlib 2.1 and will be removed in 3.1. Use 'density' instead.\n",
      "  alternative=\"'density'\", removal=\"3.1\")\n"
     ]
    },
    {
     "data": {
      "image/png": "[encoded data removed]",
      "text/plain": [
       "<Figure size 1080x360 with 1 Axes>"
      ]
     },
     "metadata": {
      "needs_background": "light"
     },
     "output_type": "display_data"
    }
   ],
   "source": [
    "figsize(15, 5)\n",
    "skellam_pred = [skellam.pmf(i,  results.mean()[0],  results.mean()[1]) for i in range(-6,8)]\n",
    "plt.hist(results[['HomeGoals']].values -results[['AwayGoals']].values, range(-6,8), alpha=0.7, label='Actual',normed=True)\n",
    "plt.plot([i+0.5 for i in range(-6,8)], skellam_pred,linestyle='-', marker='o',label=\"Skellam\")\n",
    "plt.legend(loc='upper right', fontsize=13)\n",
    "plt.xticks([i+0.5 for i in range(-6,8)],[i for i in range(-6,8)])\n",
    "plt.xlabel(\"Home Goals - Away Goals\",size=13)\n",
    "plt.ylabel(\"Proportion \",size=13)\n",
    "plt.title(\"Difference (Home Team vs Away Team)\",size=14,fontweight='bold')\n",
    "plt.show()"
   ]
  },
  {
   "cell_type": "markdown",
   "metadata": {},
   "source": [
    " We just need to know the average number of goals scored by each team and feed this data into a Poisson model. "
   ]
  },
  {
   "cell_type": "markdown",
   "metadata": {},
   "source": [
    "## Building A Model"
   ]
  },
  {
   "cell_type": "markdown",
   "metadata": {},
   "source": [
    "we could now calculate the probability of various events in this Chelsea Sunderland match. But rather than treat each match separately, we'll build a more general Poisson regression model "
   ]
  },
  {
   "cell_type": "code",
   "execution_count": 14,
   "metadata": {},
   "outputs": [
    {
     "data": {
      "text/html": [
       "<div>\n",
       "<style scoped>\n",
       "    .dataframe tbody tr th:only-of-type {\n",
       "        vertical-align: middle;\n",
       "    }\n",
       "\n",
       "    .dataframe tbody tr th {\n",
       "        vertical-align: top;\n",
       "    }\n",
       "\n",
       "    .dataframe thead th {\n",
       "        text-align: right;\n",
       "    }\n",
       "</style>\n",
       "<table border=\"1\" class=\"dataframe\">\n",
       "  <thead>\n",
       "    <tr style=\"text-align: right;\">\n",
       "      <th></th>\n",
       "      <th>team</th>\n",
       "      <th>opponent</th>\n",
       "      <th>goals</th>\n",
       "      <th>home</th>\n",
       "    </tr>\n",
       "  </thead>\n",
       "  <tbody>\n",
       "    <tr>\n",
       "      <th>0</th>\n",
       "      <td>Burnley</td>\n",
       "      <td>Swansea</td>\n",
       "      <td>0</td>\n",
       "      <td>1</td>\n",
       "    </tr>\n",
       "    <tr>\n",
       "      <th>1</th>\n",
       "      <td>Crystal Palace</td>\n",
       "      <td>West Brom</td>\n",
       "      <td>0</td>\n",
       "      <td>1</td>\n",
       "    </tr>\n",
       "    <tr>\n",
       "      <th>2</th>\n",
       "      <td>Everton</td>\n",
       "      <td>Tottenham</td>\n",
       "      <td>1</td>\n",
       "      <td>1</td>\n",
       "    </tr>\n",
       "    <tr>\n",
       "      <th>3</th>\n",
       "      <td>Hull</td>\n",
       "      <td>Leicester</td>\n",
       "      <td>2</td>\n",
       "      <td>1</td>\n",
       "    </tr>\n",
       "    <tr>\n",
       "      <th>4</th>\n",
       "      <td>Man City</td>\n",
       "      <td>Sunderland</td>\n",
       "      <td>2</td>\n",
       "      <td>1</td>\n",
       "    </tr>\n",
       "  </tbody>\n",
       "</table>\n",
       "</div>"
      ],
      "text/plain": [
       "             team    opponent  goals  home\n",
       "0         Burnley     Swansea      0     1\n",
       "1  Crystal Palace   West Brom      0     1\n",
       "2         Everton   Tottenham      1     1\n",
       "3            Hull   Leicester      2     1\n",
       "4        Man City  Sunderland      2     1"
      ]
     },
     "execution_count": 14,
     "metadata": {},
     "output_type": "execute_result"
    }
   ],
   "source": [
    "# rebuild the data\n",
    "data = pd.concat([results[['HomeTeam','AwayTeam','HomeGoals']].assign(home=1).rename(\n",
    "            columns={'HomeTeam':'team', 'AwayTeam':'opponent','HomeGoals':'goals'}),\n",
    "           results[['AwayTeam','HomeTeam','AwayGoals']].assign(home=0).rename(\n",
    "            columns={'AwayTeam':'team', 'HomeTeam':'opponent','AwayGoals':'goals'})])\n",
    "data.head()"
   ]
  },
  {
   "cell_type": "code",
   "execution_count": 15,
   "metadata": {},
   "outputs": [],
   "source": [
    "poisson_model = smf.glm(formula=\"goals ~ home + team + opponent\", data=data, \n",
    "                        family=sm.families.Poisson()).fit()"
   ]
  },
  {
   "cell_type": "code",
   "execution_count": 16,
   "metadata": {},
   "outputs": [
    {
     "data": {
      "text/html": [
       "<table class=\"simpletable\">\n",
       "<caption>Generalized Linear Model Regression Results</caption>\n",
       "<tr>\n",
       "  <th>Dep. Variable:</th>        <td>goals</td>      <th>  No. Observations:  </th>  <td>   740</td>  \n",
       "</tr>\n",
       "<tr>\n",
       "  <th>Model:</th>                 <td>GLM</td>       <th>  Df Residuals:      </th>  <td>   700</td>  \n",
       "</tr>\n",
       "<tr>\n",
       "  <th>Model Family:</th>        <td>Poisson</td>     <th>  Df Model:          </th>  <td>    39</td>  \n",
       "</tr>\n",
       "<tr>\n",
       "  <th>Link Function:</th>         <td>log</td>       <th>  Scale:             </th> <td>  1.0000</td> \n",
       "</tr>\n",
       "<tr>\n",
       "  <th>Method:</th>               <td>IRLS</td>       <th>  Log-Likelihood:    </th> <td> -1042.4</td> \n",
       "</tr>\n",
       "<tr>\n",
       "  <th>Date:</th>           <td>Tue, 04 Jun 2019</td> <th>  Deviance:          </th> <td>  776.11</td> \n",
       "</tr>\n",
       "<tr>\n",
       "  <th>Time:</th>               <td>16:25:09</td>     <th>  Pearson chi2:      </th>  <td>  659.</td>  \n",
       "</tr>\n",
       "<tr>\n",
       "  <th>No. Iterations:</th>         <td>5</td>        <th>  Covariance Type:   </th> <td>nonrobust</td>\n",
       "</tr>\n",
       "</table>\n",
       "<table class=\"simpletable\">\n",
       "<tr>\n",
       "               <td></td>                 <th>coef</th>     <th>std err</th>      <th>z</th>      <th>P>|z|</th>  <th>[0.025</th>    <th>0.975]</th>  \n",
       "</tr>\n",
       "<tr>\n",
       "  <th>Intercept</th>                  <td>    0.3725</td> <td>    0.198</td> <td>    1.880</td> <td> 0.060</td> <td>   -0.016</td> <td>    0.761</td>\n",
       "</tr>\n",
       "<tr>\n",
       "  <th>team[T.Bournemouth]</th>        <td>   -0.2891</td> <td>    0.179</td> <td>   -1.612</td> <td> 0.107</td> <td>   -0.641</td> <td>    0.062</td>\n",
       "</tr>\n",
       "<tr>\n",
       "  <th>team[T.Burnley]</th>            <td>   -0.6458</td> <td>    0.200</td> <td>   -3.230</td> <td> 0.001</td> <td>   -1.038</td> <td>   -0.254</td>\n",
       "</tr>\n",
       "<tr>\n",
       "  <th>team[T.Chelsea]</th>            <td>    0.0789</td> <td>    0.162</td> <td>    0.488</td> <td> 0.626</td> <td>   -0.238</td> <td>    0.396</td>\n",
       "</tr>\n",
       "<tr>\n",
       "  <th>team[T.Crystal Palace]</th>     <td>   -0.3865</td> <td>    0.183</td> <td>   -2.107</td> <td> 0.035</td> <td>   -0.746</td> <td>   -0.027</td>\n",
       "</tr>\n",
       "<tr>\n",
       "  <th>team[T.Everton]</th>            <td>   -0.2008</td> <td>    0.173</td> <td>   -1.161</td> <td> 0.246</td> <td>   -0.540</td> <td>    0.138</td>\n",
       "</tr>\n",
       "<tr>\n",
       "  <th>team[T.Hull]</th>               <td>   -0.7006</td> <td>    0.204</td> <td>   -3.441</td> <td> 0.001</td> <td>   -1.100</td> <td>   -0.302</td>\n",
       "</tr>\n",
       "<tr>\n",
       "  <th>team[T.Leicester]</th>          <td>   -0.4204</td> <td>    0.187</td> <td>   -2.249</td> <td> 0.025</td> <td>   -0.787</td> <td>   -0.054</td>\n",
       "</tr>\n",
       "<tr>\n",
       "  <th>team[T.Liverpool]</th>          <td>    0.0162</td> <td>    0.164</td> <td>    0.099</td> <td> 0.921</td> <td>   -0.306</td> <td>    0.338</td>\n",
       "</tr>\n",
       "<tr>\n",
       "  <th>team[T.Man City]</th>           <td>    0.0117</td> <td>    0.164</td> <td>    0.072</td> <td> 0.943</td> <td>   -0.310</td> <td>    0.334</td>\n",
       "</tr>\n",
       "<tr>\n",
       "  <th>team[T.Man United]</th>         <td>   -0.3572</td> <td>    0.181</td> <td>   -1.971</td> <td> 0.049</td> <td>   -0.713</td> <td>   -0.002</td>\n",
       "</tr>\n",
       "<tr>\n",
       "  <th>team[T.Middlesbrough]</th>      <td>   -1.0087</td> <td>    0.225</td> <td>   -4.481</td> <td> 0.000</td> <td>   -1.450</td> <td>   -0.568</td>\n",
       "</tr>\n",
       "<tr>\n",
       "  <th>team[T.Southampton]</th>        <td>   -0.5804</td> <td>    0.195</td> <td>   -2.976</td> <td> 0.003</td> <td>   -0.963</td> <td>   -0.198</td>\n",
       "</tr>\n",
       "<tr>\n",
       "  <th>team[T.Stoke]</th>              <td>   -0.6082</td> <td>    0.197</td> <td>   -3.094</td> <td> 0.002</td> <td>   -0.994</td> <td>   -0.223</td>\n",
       "</tr>\n",
       "<tr>\n",
       "  <th>team[T.Sunderland]</th>         <td>   -0.9619</td> <td>    0.222</td> <td>   -4.329</td> <td> 0.000</td> <td>   -1.397</td> <td>   -0.526</td>\n",
       "</tr>\n",
       "<tr>\n",
       "  <th>team[T.Swansea]</th>            <td>   -0.5136</td> <td>    0.192</td> <td>   -2.673</td> <td> 0.008</td> <td>   -0.890</td> <td>   -0.137</td>\n",
       "</tr>\n",
       "<tr>\n",
       "  <th>team[T.Tottenham]</th>          <td>    0.0532</td> <td>    0.162</td> <td>    0.328</td> <td> 0.743</td> <td>   -0.265</td> <td>    0.371</td>\n",
       "</tr>\n",
       "<tr>\n",
       "  <th>team[T.Watford]</th>            <td>   -0.5969</td> <td>    0.197</td> <td>   -3.035</td> <td> 0.002</td> <td>   -0.982</td> <td>   -0.211</td>\n",
       "</tr>\n",
       "<tr>\n",
       "  <th>team[T.West Brom]</th>          <td>   -0.5567</td> <td>    0.194</td> <td>   -2.876</td> <td> 0.004</td> <td>   -0.936</td> <td>   -0.177</td>\n",
       "</tr>\n",
       "<tr>\n",
       "  <th>team[T.West Ham]</th>           <td>   -0.4802</td> <td>    0.189</td> <td>   -2.535</td> <td> 0.011</td> <td>   -0.851</td> <td>   -0.109</td>\n",
       "</tr>\n",
       "<tr>\n",
       "  <th>opponent[T.Bournemouth]</th>    <td>    0.4109</td> <td>    0.196</td> <td>    2.092</td> <td> 0.036</td> <td>    0.026</td> <td>    0.796</td>\n",
       "</tr>\n",
       "<tr>\n",
       "  <th>opponent[T.Burnley]</th>        <td>    0.1657</td> <td>    0.206</td> <td>    0.806</td> <td> 0.420</td> <td>   -0.237</td> <td>    0.569</td>\n",
       "</tr>\n",
       "<tr>\n",
       "  <th>opponent[T.Chelsea]</th>        <td>   -0.3036</td> <td>    0.234</td> <td>   -1.298</td> <td> 0.194</td> <td>   -0.762</td> <td>    0.155</td>\n",
       "</tr>\n",
       "<tr>\n",
       "  <th>opponent[T.Crystal Palace]</th> <td>    0.3287</td> <td>    0.200</td> <td>    1.647</td> <td> 0.100</td> <td>   -0.062</td> <td>    0.720</td>\n",
       "</tr>\n",
       "<tr>\n",
       "  <th>opponent[T.Everton]</th>        <td>   -0.0442</td> <td>    0.218</td> <td>   -0.202</td> <td> 0.840</td> <td>   -0.472</td> <td>    0.384</td>\n",
       "</tr>\n",
       "<tr>\n",
       "  <th>opponent[T.Hull]</th>           <td>    0.4979</td> <td>    0.193</td> <td>    2.585</td> <td> 0.010</td> <td>    0.120</td> <td>    0.875</td>\n",
       "</tr>\n",
       "<tr>\n",
       "  <th>opponent[T.Leicester]</th>      <td>    0.3369</td> <td>    0.199</td> <td>    1.694</td> <td> 0.090</td> <td>   -0.053</td> <td>    0.727</td>\n",
       "</tr>\n",
       "<tr>\n",
       "  <th>opponent[T.Liverpool]</th>      <td>   -0.0374</td> <td>    0.217</td> <td>   -0.172</td> <td> 0.863</td> <td>   -0.463</td> <td>    0.389</td>\n",
       "</tr>\n",
       "<tr>\n",
       "  <th>opponent[T.Man City]</th>       <td>   -0.0993</td> <td>    0.222</td> <td>   -0.448</td> <td> 0.654</td> <td>   -0.534</td> <td>    0.335</td>\n",
       "</tr>\n",
       "<tr>\n",
       "  <th>opponent[T.Man United]</th>     <td>   -0.4220</td> <td>    0.241</td> <td>   -1.754</td> <td> 0.079</td> <td>   -0.894</td> <td>    0.050</td>\n",
       "</tr>\n",
       "<tr>\n",
       "  <th>opponent[T.Middlesbrough]</th>  <td>    0.1196</td> <td>    0.208</td> <td>    0.574</td> <td> 0.566</td> <td>   -0.289</td> <td>    0.528</td>\n",
       "</tr>\n",
       "<tr>\n",
       "  <th>opponent[T.Southampton]</th>    <td>    0.0458</td> <td>    0.211</td> <td>    0.217</td> <td> 0.828</td> <td>   -0.369</td> <td>    0.460</td>\n",
       "</tr>\n",
       "<tr>\n",
       "  <th>opponent[T.Stoke]</th>          <td>    0.2266</td> <td>    0.203</td> <td>    1.115</td> <td> 0.265</td> <td>   -0.172</td> <td>    0.625</td>\n",
       "</tr>\n",
       "<tr>\n",
       "  <th>opponent[T.Sunderland]</th>     <td>    0.3707</td> <td>    0.198</td> <td>    1.876</td> <td> 0.061</td> <td>   -0.017</td> <td>    0.758</td>\n",
       "</tr>\n",
       "<tr>\n",
       "  <th>opponent[T.Swansea]</th>        <td>    0.4336</td> <td>    0.195</td> <td>    2.227</td> <td> 0.026</td> <td>    0.052</td> <td>    0.815</td>\n",
       "</tr>\n",
       "<tr>\n",
       "  <th>opponent[T.Tottenham]</th>      <td>   -0.5431</td> <td>    0.252</td> <td>   -2.156</td> <td> 0.031</td> <td>   -1.037</td> <td>   -0.049</td>\n",
       "</tr>\n",
       "<tr>\n",
       "  <th>opponent[T.Watford]</th>        <td>    0.3533</td> <td>    0.198</td> <td>    1.782</td> <td> 0.075</td> <td>   -0.035</td> <td>    0.742</td>\n",
       "</tr>\n",
       "<tr>\n",
       "  <th>opponent[T.West Brom]</th>      <td>    0.0970</td> <td>    0.209</td> <td>    0.463</td> <td> 0.643</td> <td>   -0.313</td> <td>    0.507</td>\n",
       "</tr>\n",
       "<tr>\n",
       "  <th>opponent[T.West Ham]</th>       <td>    0.3485</td> <td>    0.198</td> <td>    1.758</td> <td> 0.079</td> <td>   -0.040</td> <td>    0.737</td>\n",
       "</tr>\n",
       "<tr>\n",
       "  <th>home</th>                       <td>    0.2969</td> <td>    0.063</td> <td>    4.702</td> <td> 0.000</td> <td>    0.173</td> <td>    0.421</td>\n",
       "</tr>\n",
       "</table>"
      ],
      "text/plain": [
       "<class 'statsmodels.iolib.summary.Summary'>\n",
       "\"\"\"\n",
       "                 Generalized Linear Model Regression Results                  \n",
       "==============================================================================\n",
       "Dep. Variable:                  goals   No. Observations:                  740\n",
       "Model:                            GLM   Df Residuals:                      700\n",
       "Model Family:                 Poisson   Df Model:                           39\n",
       "Link Function:                    log   Scale:                          1.0000\n",
       "Method:                          IRLS   Log-Likelihood:                -1042.4\n",
       "Date:                Tue, 04 Jun 2019   Deviance:                       776.11\n",
       "Time:                        16:25:09   Pearson chi2:                     659.\n",
       "No. Iterations:                     5   Covariance Type:             nonrobust\n",
       "==============================================================================================\n",
       "                                 coef    std err          z      P>|z|      [0.025      0.975]\n",
       "----------------------------------------------------------------------------------------------\n",
       "Intercept                      0.3725      0.198      1.880      0.060      -0.016       0.761\n",
       "team[T.Bournemouth]           -0.2891      0.179     -1.612      0.107      -0.641       0.062\n",
       "team[T.Burnley]               -0.6458      0.200     -3.230      0.001      -1.038      -0.254\n",
       "team[T.Chelsea]                0.0789      0.162      0.488      0.626      -0.238       0.396\n",
       "team[T.Crystal Palace]        -0.3865      0.183     -2.107      0.035      -0.746      -0.027\n",
       "team[T.Everton]               -0.2008      0.173     -1.161      0.246      -0.540       0.138\n",
       "team[T.Hull]                  -0.7006      0.204     -3.441      0.001      -1.100      -0.302\n",
       "team[T.Leicester]             -0.4204      0.187     -2.249      0.025      -0.787      -0.054\n",
       "team[T.Liverpool]              0.0162      0.164      0.099      0.921      -0.306       0.338\n",
       "team[T.Man City]               0.0117      0.164      0.072      0.943      -0.310       0.334\n",
       "team[T.Man United]            -0.3572      0.181     -1.971      0.049      -0.713      -0.002\n",
       "team[T.Middlesbrough]         -1.0087      0.225     -4.481      0.000      -1.450      -0.568\n",
       "team[T.Southampton]           -0.5804      0.195     -2.976      0.003      -0.963      -0.198\n",
       "team[T.Stoke]                 -0.6082      0.197     -3.094      0.002      -0.994      -0.223\n",
       "team[T.Sunderland]            -0.9619      0.222     -4.329      0.000      -1.397      -0.526\n",
       "team[T.Swansea]               -0.5136      0.192     -2.673      0.008      -0.890      -0.137\n",
       "team[T.Tottenham]              0.0532      0.162      0.328      0.743      -0.265       0.371\n",
       "team[T.Watford]               -0.5969      0.197     -3.035      0.002      -0.982      -0.211\n",
       "team[T.West Brom]             -0.5567      0.194     -2.876      0.004      -0.936      -0.177\n",
       "team[T.West Ham]              -0.4802      0.189     -2.535      0.011      -0.851      -0.109\n",
       "opponent[T.Bournemouth]        0.4109      0.196      2.092      0.036       0.026       0.796\n",
       "opponent[T.Burnley]            0.1657      0.206      0.806      0.420      -0.237       0.569\n",
       "opponent[T.Chelsea]           -0.3036      0.234     -1.298      0.194      -0.762       0.155\n",
       "opponent[T.Crystal Palace]     0.3287      0.200      1.647      0.100      -0.062       0.720\n",
       "opponent[T.Everton]           -0.0442      0.218     -0.202      0.840      -0.472       0.384\n",
       "opponent[T.Hull]               0.4979      0.193      2.585      0.010       0.120       0.875\n",
       "opponent[T.Leicester]          0.3369      0.199      1.694      0.090      -0.053       0.727\n",
       "opponent[T.Liverpool]         -0.0374      0.217     -0.172      0.863      -0.463       0.389\n",
       "opponent[T.Man City]          -0.0993      0.222     -0.448      0.654      -0.534       0.335\n",
       "opponent[T.Man United]        -0.4220      0.241     -1.754      0.079      -0.894       0.050\n",
       "opponent[T.Middlesbrough]      0.1196      0.208      0.574      0.566      -0.289       0.528\n",
       "opponent[T.Southampton]        0.0458      0.211      0.217      0.828      -0.369       0.460\n",
       "opponent[T.Stoke]              0.2266      0.203      1.115      0.265      -0.172       0.625\n",
       "opponent[T.Sunderland]         0.3707      0.198      1.876      0.061      -0.017       0.758\n",
       "opponent[T.Swansea]            0.4336      0.195      2.227      0.026       0.052       0.815\n",
       "opponent[T.Tottenham]         -0.5431      0.252     -2.156      0.031      -1.037      -0.049\n",
       "opponent[T.Watford]            0.3533      0.198      1.782      0.075      -0.035       0.742\n",
       "opponent[T.West Brom]          0.0970      0.209      0.463      0.643      -0.313       0.507\n",
       "opponent[T.West Ham]           0.3485      0.198      1.758      0.079      -0.040       0.737\n",
       "home                           0.2969      0.063      4.702      0.000       0.173       0.421\n",
       "==============================================================================================\n",
       "\"\"\""
      ]
     },
     "execution_count": 16,
     "metadata": {},
     "output_type": "execute_result"
    }
   ],
   "source": [
    "poisson_model.summary()"
   ]
  },
  {
   "cell_type": "markdown",
   "metadata": {},
   "source": [
    "We are more interested in the values presented in the coef column in the model summary table,which are analogous to the slopes in linear regression.A positive value implies more goals , while values closer to zero represent more neutral effects Towards the bottom of the table you might notice that home has a coef of 0.2969. This captures the fact that home teams generally score more goals than the away team.Man City has an estimate of 0.0117, while the corresponding value for Sunderland is -0.9619.\n",
    "Finally, the opponent values penalize teams based on the quality of the opposition. This reflects the defensive strength of each team (Chelsea: -0.0993; Sunderland: 0.3707). In other words, you're less likely to score when you are against Man City."
   ]
  },
  {
   "cell_type": "code",
   "execution_count": 17,
   "metadata": {},
   "outputs": [
    {
     "data": {
      "text/plain": [
       "1    2.862819\n",
       "dtype: float64"
      ]
     },
     "execution_count": 17,
     "metadata": {},
     "output_type": "execute_result"
    }
   ],
   "source": [
    "poisson_model.predict(pd.DataFrame(data={'team': 'Man City', 'opponent': 'Sunderland',\n",
    "                                       'home':1},index=[1]))"
   ]
  },
  {
   "cell_type": "code",
   "execution_count": 18,
   "metadata": {},
   "outputs": [
    {
     "data": {
      "text/plain": [
       "1    0.502182\n",
       "dtype: float64"
      ]
     },
     "execution_count": 18,
     "metadata": {},
     "output_type": "execute_result"
    }
   ],
   "source": [
    "poisson_model.predict(pd.DataFrame(data={'team': 'Sunderland', 'opponent': 'Man City',\n",
    "                                       'home':0},index=[1]))"
   ]
  },
  {
   "cell_type": "code",
   "execution_count": 19,
   "metadata": {},
   "outputs": [
    {
     "data": {
      "text/plain": [
       "array([[0.03108485, 0.01272529, 0.00260469, 0.00035543],\n",
       "       [0.0951713 , 0.03896054, 0.00797469, 0.00108821],\n",
       "       [0.14569118, 0.059642  , 0.01220791, 0.00166586],\n",
       "       [0.14868571, 0.06086788, 0.01245883, 0.0017001 ]])"
      ]
     },
     "execution_count": 19,
     "metadata": {},
     "output_type": "execute_result"
    }
   ],
   "source": [
    "def simulate_match(foot_model, homeTeam, awayTeam, max_goals=10):\n",
    "    home_goals_avg = foot_model.predict(pd.DataFrame(data={'team': homeTeam, \n",
    "                                                            'opponent': awayTeam,'home':1},\n",
    "                                                      index=[1])).values[0]\n",
    "    away_goals_avg = foot_model.predict(pd.DataFrame(data={'team': awayTeam, \n",
    "                                                            'opponent': homeTeam,'home':0},\n",
    "                                                      index=[1])).values[0]\n",
    "    team_pred = [[poisson.pmf(i, team_avg) for i in range(0, max_goals+1)] for team_avg in [home_goals_avg, away_goals_avg]]\n",
    "    return(np.outer(np.array(team_pred[0]), np.array(team_pred[1])))\n",
    "simulate_match(poisson_model, 'Chelsea', 'Sunderland', max_goals=3)"
   ]
  },
  {
   "cell_type": "markdown",
   "metadata": {},
   "source": [
    "This matrix simply shows the probability of Chelsea (rows of the matrix) and Sunderland (matrix columns) scoring a specific number of goals. For example, along the diagonal, both teams score the same the number of goals (e.g. P(0-0)=0.031). So, you can calculate the odds of draw by summing all the diagonal entries. Everything below the diagonal represents a Chelsea victory (e.g P(3-0)=0.149), And you can estimate P(Over 2.5 goals) by summing all entries except the four values in the upper left corner. "
   ]
  },
  {
   "cell_type": "code",
   "execution_count": 23,
   "metadata": {},
   "outputs": [
    {
     "data": {
      "text/plain": [
       "0.8533353555385607"
      ]
     },
     "execution_count": 23,
     "metadata": {},
     "output_type": "execute_result"
    }
   ],
   "source": [
    "chel_sum = simulate_match(poisson_model, \"Man City\", \"Sunderland\", max_goals=10)\n",
    "# Man City win\n",
    "np.sum(np.tril(chel_sum, -1))"
   ]
  },
  {
   "cell_type": "code",
   "execution_count": 24,
   "metadata": {},
   "outputs": [
    {
     "data": {
      "text/plain": [
       "0.10523328232600788"
      ]
     },
     "execution_count": 24,
     "metadata": {},
     "output_type": "execute_result"
    }
   ],
   "source": [
    "# draw\n",
    "np.sum(np.diag(chel_sum))"
   ]
  },
  {
   "cell_type": "code",
   "execution_count": 25,
   "metadata": {},
   "outputs": [
    {
     "data": {
      "text/plain": [
       "0.041233819387901716"
      ]
     },
     "execution_count": 25,
     "metadata": {},
     "output_type": "execute_result"
    }
   ],
   "source": [
    "# sunderland win\n",
    "np.sum(np.triu(chel_sum, 1))"
   ]
  },
  {
   "cell_type": "markdown",
   "metadata": {},
   "source": [
    "## Conclusion\n",
    "We built a simple Poisson model to predict the results of English Premier League matches.\n",
    "In conclusion, don't wager the money, but it's a good starting point for more sophisticated realistic models. "
   ]
  },
  {
   "cell_type": "code",
   "execution_count": null,
   "metadata": {},
   "outputs": [],
   "source": []
  }
 ],
 "metadata": {
  "kernelspec": {
   "display_name": "Python 3",
   "language": "python",
   "name": "python3"
  },
  "language_info": {
   "codemirror_mode": {
    "name": "ipython",
    "version": 3
   },
   "file_extension": ".py",
   "mimetype": "text/x-python",
   "name": "python",
   "nbconvert_exporter": "python",
   "pygments_lexer": "ipython3",
   "version": "3.6.7"
  }
 },
 "nbformat": 4,
 "nbformat_minor": 2
}
