{
 "cells": [
  {
   "cell_type": "markdown",
   "metadata": {},
   "source": [
    "The Premier League is the top level of the English football league system which is contested by 20 clubs. You're less likely to hear \"Treating the number of goals scored by each team as independent Poisson processes, statistical modelling suggests that the home team have a 60% chance of winning today\".And here we will do it now."
   ]
  },
  {
   "cell_type": "markdown",
   "metadata": {},
   "source": [
    "![jupyter](./skysports-graphic-data-premier-league_4390874.jpg)"
   ]
  },
  {
   "cell_type": "code",
   "execution_count": 3,
   "metadata": {},
   "outputs": [],
   "source": [
    "import pandas as pd\n",
    "import matplotlib.pyplot as plt\n",
    "import numpy as np\n",
    "import seaborn\n",
    "from scipy.stats import poisson,skellam\n",
    "from IPython.core.pylabtools import figsize"
   ]
  },
  {
   "cell_type": "markdown",
   "metadata": {},
   "source": [
    "## Dataset and motivation slide"
   ]
  },
  {
   "cell_type": "markdown",
   "metadata": {},
   "source": [
    "We'll import all match results from the recently concluded Premier League (2017/18) season. The model is founded on the number of goals scored/conceded by each team. Teams that have been higher scorers in the past have a greater likelihood of scoring goals in the future."
   ]
  },
  {
   "cell_type": "code",
   "execution_count": 1,
   "metadata": {},
   "outputs": [
    {
     "name": "stdout",
     "output_type": "stream",
     "text": [
      "Will not apply HSTS. The HSTS database must be a regular and non-world-writable file.\n",
      "ERROR: could not open HSTS store at '/home/chuanjie/.wget-hsts'. HSTS will be disabled.\n",
      "--2019-06-05 08:50:57--  http://www.football-data.co.uk/mmz4281/1718/E0.csv\n",
      "Resolving www.football-data.co.uk (www.football-data.co.uk)... 217.160.0.246\n",
      "Connecting to www.football-data.co.uk (www.football-data.co.uk)|217.160.0.246|:80... connected.\n",
      "HTTP request sent, awaiting response... 200 OK\n",
      "Length: 99972 (98K) [text/csv]\n",
      "Saving to: ‘E0.csv.3’\n",
      "\n",
      "E0.csv.3            100%[===================>]  97.63K   213KB/s    in 0.5s    \n",
      "\n",
      "2019-06-05 08:50:58 (213 KB/s) - ‘E0.csv.3’ saved [99972/99972]\n",
      "\n"
     ]
    }
   ],
   "source": [
    "!wget http://www.football-data.co.uk/mmz4281/1718/E0.csv"
   ]
  },
  {
   "cell_type": "code",
   "execution_count": 4,
   "metadata": {},
   "outputs": [
    {
     "data": {
      "text/html": [
       "<div>\n",
       "<style scoped>\n",
       "    .dataframe tbody tr th:only-of-type {\n",
       "        vertical-align: middle;\n",
       "    }\n",
       "\n",
       "    .dataframe tbody tr th {\n",
       "        vertical-align: top;\n",
       "    }\n",
       "\n",
       "    .dataframe thead th {\n",
       "        text-align: right;\n",
       "    }\n",
       "</style>\n",
       "<table border=\"1\" class=\"dataframe\">\n",
       "  <thead>\n",
       "    <tr style=\"text-align: right;\">\n",
       "      <th></th>\n",
       "      <th>HomeTeam</th>\n",
       "      <th>AwayTeam</th>\n",
       "      <th>HomeGoals</th>\n",
       "      <th>AwayGoals</th>\n",
       "    </tr>\n",
       "  </thead>\n",
       "  <tbody>\n",
       "    <tr>\n",
       "      <th>0</th>\n",
       "      <td>Arsenal</td>\n",
       "      <td>Leicester</td>\n",
       "      <td>4</td>\n",
       "      <td>3</td>\n",
       "    </tr>\n",
       "    <tr>\n",
       "      <th>1</th>\n",
       "      <td>Brighton</td>\n",
       "      <td>Man City</td>\n",
       "      <td>0</td>\n",
       "      <td>2</td>\n",
       "    </tr>\n",
       "    <tr>\n",
       "      <th>2</th>\n",
       "      <td>Chelsea</td>\n",
       "      <td>Burnley</td>\n",
       "      <td>2</td>\n",
       "      <td>3</td>\n",
       "    </tr>\n",
       "    <tr>\n",
       "      <th>3</th>\n",
       "      <td>Crystal Palace</td>\n",
       "      <td>Huddersfield</td>\n",
       "      <td>0</td>\n",
       "      <td>3</td>\n",
       "    </tr>\n",
       "    <tr>\n",
       "      <th>4</th>\n",
       "      <td>Everton</td>\n",
       "      <td>Stoke</td>\n",
       "      <td>1</td>\n",
       "      <td>0</td>\n",
       "    </tr>\n",
       "  </tbody>\n",
       "</table>\n",
       "</div>"
      ],
      "text/plain": [
       "         HomeTeam      AwayTeam  HomeGoals  AwayGoals\n",
       "0         Arsenal     Leicester          4          3\n",
       "1        Brighton      Man City          0          2\n",
       "2         Chelsea       Burnley          2          3\n",
       "3  Crystal Palace  Huddersfield          0          3\n",
       "4         Everton         Stoke          1          0"
      ]
     },
     "execution_count": 4,
     "metadata": {},
     "output_type": "execute_result"
    }
   ],
   "source": [
    "results = pd.read_csv(\"http://www.football-data.co.uk/mmz4281/1718/E0.csv\")\n",
    "results = results[['HomeTeam','AwayTeam','FTHG','FTAG']]\n",
    "results = results.rename(columns={'FTHG': 'HomeGoals', 'FTAG': 'AwayGoals'})\n",
    "results.head()"
   ]
  },
  {
   "cell_type": "markdown",
   "metadata": {},
   "source": [
    "check the type of columns"
   ]
  },
  {
   "cell_type": "code",
   "execution_count": 5,
   "metadata": {},
   "outputs": [
    {
     "data": {
      "text/plain": [
       "HomeTeam     object\n",
       "AwayTeam     object\n",
       "HomeGoals     int64\n",
       "AwayGoals     int64\n",
       "dtype: object"
      ]
     },
     "execution_count": 5,
     "metadata": {},
     "output_type": "execute_result"
    }
   ],
   "source": [
    "results.dtypes"
   ]
  },
  {
   "cell_type": "markdown",
   "metadata": {},
   "source": [
    "## Research Question\n",
    "Input: csv file \n",
    "\n",
    "We imported a csv as a pandas dataframe, which contains various information for each of the 380 EPL games in the 2016-17 English Premier League season. We restricted the dataframe to the columns in which we're interested (specifically, team names and number of goals scored by each team).\n",
    "\n",
    "Output: probability\n",
    "\n",
    "Our task is to model the match and get the probability of results between the two teams."
   ]
  },
  {
   "cell_type": "code",
   "execution_count": 6,
   "metadata": {},
   "outputs": [
    {
     "data": {
      "text/plain": [
       "HomeGoals    1.531579\n",
       "AwayGoals    1.147368\n",
       "dtype: float64"
      ]
     },
     "execution_count": 6,
     "metadata": {},
     "output_type": "execute_result"
    }
   ],
   "source": [
    "results.mean()"
   ]
  },
  {
   "cell_type": "markdown",
   "metadata": {},
   "source": [
    "on average, the home team scores more goals than the away team. This is the so called 'home (field) advantage' "
   ]
  },
  {
   "cell_type": "markdown",
   "metadata": {},
   "source": [
    "## The Poisson distribution. \n",
    "It's a discrete probability distribution that describes the probability of the number of events within a specific time period (e.g 90 mins) with a known average rate of occurrence. "
   ]
  },
  {
   "cell_type": "markdown",
   "metadata": {},
   "source": [
    "![jupyter](./math.svg)"
   ]
  },
  {
   "cell_type": "markdown",
   "metadata": {},
   "source": [
    "$\\lambda$ represents the average rate (e.g. average number of goals). So, we can treat the number of goals scored by the home and away team as two independent Poisson distributions. The plot below shows the proportion of goals scored compared to the number of goals estimated by the corresponding Poisson distributions."
   ]
  },
  {
   "cell_type": "code",
   "execution_count": 7,
   "metadata": {},
   "outputs": [
    {
     "data": {
      "text/plain": [
       "array([[2.16194039e-01, 3.17471121e-01],\n",
       "       [3.31118238e-01, 3.64256339e-01],\n",
       "       [2.53566861e-01, 2.08968110e-01],\n",
       "       [1.29452556e-01, 7.99211370e-02],\n",
       "       [4.95667022e-02, 2.29247472e-02],\n",
       "       [1.51830635e-02, 5.26062620e-03],\n",
       "       [3.87567674e-03, 1.00597940e-03],\n",
       "       [8.47986414e-04, 1.64889856e-04]])"
      ]
     },
     "execution_count": 7,
     "metadata": {},
     "output_type": "execute_result"
    }
   ],
   "source": [
    "# construct Poisson  for each mean goals value\n",
    "poisson_pred = np.column_stack([[poisson.pmf(i, results.mean()[j]) for i in range(8)] for j in range(2)])\n",
    "poisson_pred"
   ]
  },
  {
   "cell_type": "code",
   "execution_count": 8,
   "metadata": {},
   "outputs": [
    {
     "name": "stderr",
     "output_type": "stream",
     "text": [
      "/home/chuanjie/.local/lib/python3.6/site-packages/matplotlib/axes/_axes.py:6521: MatplotlibDeprecationWarning: \n",
      "The 'normed' kwarg was deprecated in Matplotlib 2.1 and will be removed in 3.1. Use 'density' instead.\n",
      "  alternative=\"'density'\", removal=\"3.1\")\n"
     ]
    },
    {
     "data": {
      "image/png": "[encoded data removed]",
      "text/plain": [
       "<Figure size 1080x360 with 1 Axes>"
      ]
     },
     "metadata": {
      "needs_background": "light"
     },
     "output_type": "display_data"
    }
   ],
   "source": [
    "# construct Poisson  for each mean goals value, plot histogram of actual goals and add lines for the Poisson distributions\n",
    "figsize(15, 5)\n",
    "plt.hist(results[['HomeGoals', 'AwayGoals']].values, range(9), alpha=0.7, label=['Home', 'Away'],normed=True)\n",
    "pois1 = plt.plot([i-0.5 for i in range(1,9)], poisson_pred[:,0],linestyle='-', marker='o',label = 'Home')\n",
    "pois2 = plt.plot([i-0.5 for i in range(1,9)], poisson_pred[:,1],linestyle='-', marker='o',label=\"Away\")\n",
    "leg=plt.legend(loc='upper right', fontsize=10,ncol=2)\n",
    "leg.set_title(\"Poisson           Actual        \", prop = {'size':'14', 'weight':'bold'})\n",
    "plt.xticks([i-0.5 for i in range(1,9)],[i for i in range(9)])\n",
    "plt.xlabel(\"Goals per Match\",size=1)\n",
    "plt.ylabel(\"Proportion of Matches\",size=13)\n",
    "plt.title(\"Number of Goals per Match (EPL 2016/17 Season)\",size=14,fontweight='bold')\n",
    "\n",
    "plt.show()"
   ]
  },
  {
   "cell_type": "markdown",
   "metadata": {},
   "source": [
    "Through this graph, we can say that although the specific probability between poisson and actual are different,but the trends of them are similar."
   ]
  },
  {
   "cell_type": "markdown",
   "metadata": {},
   "source": [
    "Note that we consider the number of goals scored by each team to be independent events (i.e. P(A n B) = P(A) P(B)). The difference of two Poisson distribution is actually called a Skellam distribution. So we can calculate the probability of a draw by inputting the mean goal values into this distribution."
   ]
  },
  {
   "cell_type": "code",
   "execution_count": 9,
   "metadata": {},
   "outputs": [
    {
     "data": {
      "text/plain": [
       "0.2538008836380457"
      ]
     },
     "execution_count": 9,
     "metadata": {},
     "output_type": "execute_result"
    }
   ],
   "source": [
    "# probability of draw between home and away team\n",
    "skellam.pmf(0.0,  results.mean()[0],  results.mean()[1])"
   ]
  },
  {
   "cell_type": "code",
   "execution_count": 10,
   "metadata": {},
   "outputs": [
    {
     "data": {
      "text/plain": [
       "0.22886603504134242"
      ]
     },
     "execution_count": 10,
     "metadata": {},
     "output_type": "execute_result"
    }
   ],
   "source": [
    "# probability of home team winning by one goal\n",
    "skellam.pmf(1,  results.mean()[0],  results.mean()[1])"
   ]
  },
  {
   "cell_type": "code",
   "execution_count": 11,
   "metadata": {},
   "outputs": [
    {
     "name": "stderr",
     "output_type": "stream",
     "text": [
      "/home/chuanjie/.local/lib/python3.6/site-packages/matplotlib/axes/_axes.py:6521: MatplotlibDeprecationWarning: \n",
      "The 'normed' kwarg was deprecated in Matplotlib 2.1 and will be removed in 3.1. Use 'density' instead.\n",
      "  alternative=\"'density'\", removal=\"3.1\")\n"
     ]
    },
    {
     "data": {
      "image/png": "[encoded data removed]",
      "text/plain": [
       "<Figure size 1080x360 with 1 Axes>"
      ]
     },
     "metadata": {
      "needs_background": "light"
     },
     "output_type": "display_data"
    }
   ],
   "source": [
    "figsize(15, 5)\n",
    "skellam_pred = [skellam.pmf(i,  results.mean()[0],  results.mean()[1]) for i in range(-6,8)]\n",
    "plt.hist(results[['HomeGoals']].values -results[['AwayGoals']].values, range(-6,8), alpha=0.7, label='Actual',normed=True)\n",
    "plt.plot([i+0.5 for i in range(-6,8)], skellam_pred,linestyle='-', marker='o',label=\"Skellam\")\n",
    "plt.legend(loc='upper right', fontsize=13)\n",
    "plt.xticks([i+0.5 for i in range(-6,8)],[i for i in range(-6,8)])\n",
    "plt.xlabel(\"Home Goals - Away Goals\",size=13)\n",
    "plt.ylabel(\"Proportion \",size=13)\n",
    "plt.title(\"Difference (Home Team vs Away Team)\",size=14,fontweight='bold')\n",
    "plt.show()"
   ]
  },
  {
   "cell_type": "markdown",
   "metadata": {},
   "source": [
    "From these two graph, we can think of the score as a Poisson distribution.\n",
    "We just need to know the average number of goals scored by each team and feed this data into a Poisson model. "
   ]
  },
  {
   "cell_type": "markdown",
   "metadata": {},
   "source": [
    "## Building A Model"
   ]
  },
  {
   "cell_type": "markdown",
   "metadata": {},
   "source": [
    "We could now calculate the probability of various events in this Man City VS Brighton match. But rather than treat each match separately, we'll build a more general Poisson regression model "
   ]
  },
  {
   "cell_type": "markdown",
   "metadata": {},
   "source": [
    "We use statsmodel to build the prediction ,it is a Python module that provides classes and functions for the estimation of many different statistical models, as well as for conducting statistical tests, and statistical data exploration. An extensive list of result statistics are available for each estimator. The results are tested against existing statistical packages to ensure that they are correct.\n",
    "\n",
    "http://www.statsmodels.org/stable/index.html"
   ]
  },
  {
   "cell_type": "code",
   "execution_count": 12,
   "metadata": {},
   "outputs": [],
   "source": [
    "import statsmodels.api as sm\n",
    "import statsmodels.formula.api as smf"
   ]
  },
  {
   "cell_type": "code",
   "execution_count": 13,
   "metadata": {},
   "outputs": [
    {
     "data": {
      "text/html": [
       "<div>\n",
       "<style scoped>\n",
       "    .dataframe tbody tr th:only-of-type {\n",
       "        vertical-align: middle;\n",
       "    }\n",
       "\n",
       "    .dataframe tbody tr th {\n",
       "        vertical-align: top;\n",
       "    }\n",
       "\n",
       "    .dataframe thead th {\n",
       "        text-align: right;\n",
       "    }\n",
       "</style>\n",
       "<table border=\"1\" class=\"dataframe\">\n",
       "  <thead>\n",
       "    <tr style=\"text-align: right;\">\n",
       "      <th></th>\n",
       "      <th>team</th>\n",
       "      <th>opponent</th>\n",
       "      <th>goals</th>\n",
       "      <th>home</th>\n",
       "    </tr>\n",
       "  </thead>\n",
       "  <tbody>\n",
       "    <tr>\n",
       "      <th>0</th>\n",
       "      <td>Arsenal</td>\n",
       "      <td>Leicester</td>\n",
       "      <td>4</td>\n",
       "      <td>1</td>\n",
       "    </tr>\n",
       "    <tr>\n",
       "      <th>1</th>\n",
       "      <td>Brighton</td>\n",
       "      <td>Man City</td>\n",
       "      <td>0</td>\n",
       "      <td>1</td>\n",
       "    </tr>\n",
       "    <tr>\n",
       "      <th>2</th>\n",
       "      <td>Chelsea</td>\n",
       "      <td>Burnley</td>\n",
       "      <td>2</td>\n",
       "      <td>1</td>\n",
       "    </tr>\n",
       "    <tr>\n",
       "      <th>3</th>\n",
       "      <td>Crystal Palace</td>\n",
       "      <td>Huddersfield</td>\n",
       "      <td>0</td>\n",
       "      <td>1</td>\n",
       "    </tr>\n",
       "    <tr>\n",
       "      <th>4</th>\n",
       "      <td>Everton</td>\n",
       "      <td>Stoke</td>\n",
       "      <td>1</td>\n",
       "      <td>1</td>\n",
       "    </tr>\n",
       "  </tbody>\n",
       "</table>\n",
       "</div>"
      ],
      "text/plain": [
       "             team      opponent  goals  home\n",
       "0         Arsenal     Leicester      4     1\n",
       "1        Brighton      Man City      0     1\n",
       "2         Chelsea       Burnley      2     1\n",
       "3  Crystal Palace  Huddersfield      0     1\n",
       "4         Everton         Stoke      1     1"
      ]
     },
     "execution_count": 13,
     "metadata": {},
     "output_type": "execute_result"
    }
   ],
   "source": [
    "# rebuild the data\n",
    "data = pd.concat([results[['HomeTeam','AwayTeam','HomeGoals']].assign(home=1).rename(\n",
    "            columns={'HomeTeam':'team', 'AwayTeam':'opponent','HomeGoals':'goals'}),\n",
    "           results[['AwayTeam','HomeTeam','AwayGoals']].assign(home=0).rename(\n",
    "            columns={'AwayTeam':'team', 'HomeTeam':'opponent','AwayGoals':'goals'})])\n",
    "data.head()"
   ]
  },
  {
   "cell_type": "code",
   "execution_count": 14,
   "metadata": {},
   "outputs": [],
   "source": [
    "model = smf.glm(formula=\"goals ~ home + team + opponent\", data=data, \n",
    "                        family=sm.families.Poisson()).fit()"
   ]
  },
  {
   "cell_type": "code",
   "execution_count": 15,
   "metadata": {},
   "outputs": [
    {
     "data": {
      "text/html": [
       "<table class=\"simpletable\">\n",
       "<caption>Generalized Linear Model Regression Results</caption>\n",
       "<tr>\n",
       "  <th>Dep. Variable:</th>        <td>goals</td>      <th>  No. Observations:  </th>  <td>   760</td>  \n",
       "</tr>\n",
       "<tr>\n",
       "  <th>Model:</th>                 <td>GLM</td>       <th>  Df Residuals:      </th>  <td>   720</td>  \n",
       "</tr>\n",
       "<tr>\n",
       "  <th>Model Family:</th>        <td>Poisson</td>     <th>  Df Model:          </th>  <td>    39</td>  \n",
       "</tr>\n",
       "<tr>\n",
       "  <th>Link Function:</th>         <td>log</td>       <th>  Scale:             </th> <td>  1.0000</td> \n",
       "</tr>\n",
       "<tr>\n",
       "  <th>Method:</th>               <td>IRLS</td>       <th>  Log-Likelihood:    </th> <td> -1052.3</td> \n",
       "</tr>\n",
       "<tr>\n",
       "  <th>Date:</th>           <td>Wed, 05 Jun 2019</td> <th>  Deviance:          </th> <td>  796.97</td> \n",
       "</tr>\n",
       "<tr>\n",
       "  <th>Time:</th>               <td>08:51:58</td>     <th>  Pearson chi2:      </th>  <td>  683.</td>  \n",
       "</tr>\n",
       "<tr>\n",
       "  <th>No. Iterations:</th>         <td>5</td>        <th>  Covariance Type:   </th> <td>nonrobust</td>\n",
       "</tr>\n",
       "</table>\n",
       "<table class=\"simpletable\">\n",
       "<tr>\n",
       "               <td></td>                 <th>coef</th>     <th>std err</th>      <th>z</th>      <th>P>|z|</th>  <th>[0.025</th>    <th>0.975]</th>  \n",
       "</tr>\n",
       "<tr>\n",
       "  <th>Intercept</th>                  <td>    0.5427</td> <td>    0.189</td> <td>    2.878</td> <td> 0.004</td> <td>    0.173</td> <td>    0.912</td>\n",
       "</tr>\n",
       "<tr>\n",
       "  <th>team[T.Bournemouth]</th>        <td>   -0.4886</td> <td>    0.189</td> <td>   -2.580</td> <td> 0.010</td> <td>   -0.860</td> <td>   -0.117</td>\n",
       "</tr>\n",
       "<tr>\n",
       "  <th>team[T.Brighton]</th>           <td>   -0.7769</td> <td>    0.207</td> <td>   -3.745</td> <td> 0.000</td> <td>   -1.183</td> <td>   -0.370</td>\n",
       "</tr>\n",
       "<tr>\n",
       "  <th>team[T.Burnley]</th>            <td>   -0.7349</td> <td>    0.203</td> <td>   -3.612</td> <td> 0.000</td> <td>   -1.134</td> <td>   -0.336</td>\n",
       "</tr>\n",
       "<tr>\n",
       "  <th>team[T.Chelsea]</th>            <td>   -0.1912</td> <td>    0.172</td> <td>   -1.109</td> <td> 0.268</td> <td>   -0.529</td> <td>    0.147</td>\n",
       "</tr>\n",
       "<tr>\n",
       "  <th>team[T.Crystal Palace]</th>     <td>   -0.4949</td> <td>    0.189</td> <td>   -2.614</td> <td> 0.009</td> <td>   -0.866</td> <td>   -0.124</td>\n",
       "</tr>\n",
       "<tr>\n",
       "  <th>team[T.Everton]</th>            <td>   -0.5143</td> <td>    0.191</td> <td>   -2.697</td> <td> 0.007</td> <td>   -0.888</td> <td>   -0.141</td>\n",
       "</tr>\n",
       "<tr>\n",
       "  <th>team[T.Huddersfield]</th>       <td>   -0.9673</td> <td>    0.222</td> <td>   -4.354</td> <td> 0.000</td> <td>   -1.403</td> <td>   -0.532</td>\n",
       "</tr>\n",
       "<tr>\n",
       "  <th>team[T.Leicester]</th>          <td>   -0.2703</td> <td>    0.177</td> <td>   -1.523</td> <td> 0.128</td> <td>   -0.618</td> <td>    0.078</td>\n",
       "</tr>\n",
       "<tr>\n",
       "  <th>team[T.Liverpool]</th>          <td>    0.1134</td> <td>    0.160</td> <td>    0.710</td> <td> 0.478</td> <td>   -0.200</td> <td>    0.426</td>\n",
       "</tr>\n",
       "<tr>\n",
       "  <th>team[T.Man City]</th>           <td>    0.3351</td> <td>    0.152</td> <td>    2.208</td> <td> 0.027</td> <td>    0.038</td> <td>    0.633</td>\n",
       "</tr>\n",
       "<tr>\n",
       "  <th>team[T.Man United]</th>         <td>   -0.1090</td> <td>    0.168</td> <td>   -0.648</td> <td> 0.517</td> <td>   -0.439</td> <td>    0.221</td>\n",
       "</tr>\n",
       "<tr>\n",
       "  <th>team[T.Newcastle]</th>          <td>   -0.6466</td> <td>    0.198</td> <td>   -3.263</td> <td> 0.001</td> <td>   -1.035</td> <td>   -0.258</td>\n",
       "</tr>\n",
       "<tr>\n",
       "  <th>team[T.Southampton]</th>        <td>   -0.6901</td> <td>    0.202</td> <td>   -3.422</td> <td> 0.001</td> <td>   -1.085</td> <td>   -0.295</td>\n",
       "</tr>\n",
       "<tr>\n",
       "  <th>team[T.Stoke]</th>              <td>   -0.7334</td> <td>    0.205</td> <td>   -3.569</td> <td> 0.000</td> <td>   -1.136</td> <td>   -0.331</td>\n",
       "</tr>\n",
       "<tr>\n",
       "  <th>team[T.Swansea]</th>            <td>   -0.9693</td> <td>    0.222</td> <td>   -4.364</td> <td> 0.000</td> <td>   -1.405</td> <td>   -0.534</td>\n",
       "</tr>\n",
       "<tr>\n",
       "  <th>team[T.Tottenham]</th>          <td>   -0.0159</td> <td>    0.165</td> <td>   -0.096</td> <td> 0.923</td> <td>   -0.339</td> <td>    0.307</td>\n",
       "</tr>\n",
       "<tr>\n",
       "  <th>team[T.Watford]</th>            <td>   -0.5080</td> <td>    0.191</td> <td>   -2.664</td> <td> 0.008</td> <td>   -0.882</td> <td>   -0.134</td>\n",
       "</tr>\n",
       "<tr>\n",
       "  <th>team[T.West Brom]</th>          <td>   -0.8674</td> <td>    0.214</td> <td>   -4.049</td> <td> 0.000</td> <td>   -1.287</td> <td>   -0.448</td>\n",
       "</tr>\n",
       "<tr>\n",
       "  <th>team[T.West Ham]</th>           <td>   -0.4165</td> <td>    0.186</td> <td>   -2.243</td> <td> 0.025</td> <td>   -0.780</td> <td>   -0.053</td>\n",
       "</tr>\n",
       "<tr>\n",
       "  <th>opponent[T.Bournemouth]</th>    <td>    0.1491</td> <td>    0.190</td> <td>    0.784</td> <td> 0.433</td> <td>   -0.224</td> <td>    0.522</td>\n",
       "</tr>\n",
       "<tr>\n",
       "  <th>opponent[T.Brighton]</th>       <td>    0.0155</td> <td>    0.196</td> <td>    0.079</td> <td> 0.937</td> <td>   -0.368</td> <td>    0.399</td>\n",
       "</tr>\n",
       "<tr>\n",
       "  <th>opponent[T.Burnley]</th>        <td>   -0.3084</td> <td>    0.213</td> <td>   -1.448</td> <td> 0.148</td> <td>   -0.726</td> <td>    0.109</td>\n",
       "</tr>\n",
       "<tr>\n",
       "  <th>opponent[T.Chelsea]</th>        <td>   -0.3079</td> <td>    0.215</td> <td>   -1.434</td> <td> 0.152</td> <td>   -0.729</td> <td>    0.113</td>\n",
       "</tr>\n",
       "<tr>\n",
       "  <th>opponent[T.Crystal Palace]</th> <td>    0.0452</td> <td>    0.195</td> <td>    0.232</td> <td> 0.816</td> <td>   -0.336</td> <td>    0.427</td>\n",
       "</tr>\n",
       "<tr>\n",
       "  <th>opponent[T.Everton]</th>        <td>    0.0974</td> <td>    0.192</td> <td>    0.507</td> <td> 0.612</td> <td>   -0.279</td> <td>    0.474</td>\n",
       "</tr>\n",
       "<tr>\n",
       "  <th>opponent[T.Huddersfield]</th>   <td>    0.0809</td> <td>    0.192</td> <td>    0.421</td> <td> 0.674</td> <td>   -0.296</td> <td>    0.458</td>\n",
       "</tr>\n",
       "<tr>\n",
       "  <th>opponent[T.Leicester]</th>      <td>    0.1440</td> <td>    0.191</td> <td>    0.755</td> <td> 0.450</td> <td>   -0.230</td> <td>    0.518</td>\n",
       "</tr>\n",
       "<tr>\n",
       "  <th>opponent[T.Liverpool]</th>      <td>   -0.2847</td> <td>    0.215</td> <td>   -1.326</td> <td> 0.185</td> <td>   -0.706</td> <td>    0.136</td>\n",
       "</tr>\n",
       "<tr>\n",
       "  <th>opponent[T.Man City]</th>       <td>   -0.6041</td> <td>    0.238</td> <td>   -2.534</td> <td> 0.011</td> <td>   -1.071</td> <td>   -0.137</td>\n",
       "</tr>\n",
       "<tr>\n",
       "  <th>opponent[T.Man United]</th>     <td>   -0.6077</td> <td>    0.236</td> <td>   -2.580</td> <td> 0.010</td> <td>   -1.069</td> <td>   -0.146</td>\n",
       "</tr>\n",
       "<tr>\n",
       "  <th>opponent[T.Newcastle]</th>      <td>   -0.1185</td> <td>    0.203</td> <td>   -0.585</td> <td> 0.558</td> <td>   -0.515</td> <td>    0.278</td>\n",
       "</tr>\n",
       "<tr>\n",
       "  <th>opponent[T.Southampton]</th>    <td>    0.0550</td> <td>    0.194</td> <td>    0.284</td> <td> 0.777</td> <td>   -0.325</td> <td>    0.435</td>\n",
       "</tr>\n",
       "<tr>\n",
       "  <th>opponent[T.Stoke]</th>          <td>    0.2476</td> <td>    0.186</td> <td>    1.334</td> <td> 0.182</td> <td>   -0.116</td> <td>    0.611</td>\n",
       "</tr>\n",
       "<tr>\n",
       "  <th>opponent[T.Swansea]</th>        <td>    0.0458</td> <td>    0.194</td> <td>    0.236</td> <td> 0.813</td> <td>   -0.334</td> <td>    0.426</td>\n",
       "</tr>\n",
       "<tr>\n",
       "  <th>opponent[T.Tottenham]</th>      <td>   -0.3495</td> <td>    0.218</td> <td>   -1.603</td> <td> 0.109</td> <td>   -0.777</td> <td>    0.078</td>\n",
       "</tr>\n",
       "<tr>\n",
       "  <th>opponent[T.Watford]</th>        <td>    0.1962</td> <td>    0.188</td> <td>    1.043</td> <td> 0.297</td> <td>   -0.172</td> <td>    0.565</td>\n",
       "</tr>\n",
       "<tr>\n",
       "  <th>opponent[T.West Brom]</th>      <td>    0.0489</td> <td>    0.194</td> <td>    0.252</td> <td> 0.801</td> <td>   -0.331</td> <td>    0.429</td>\n",
       "</tr>\n",
       "<tr>\n",
       "  <th>opponent[T.West Ham]</th>       <td>    0.2612</td> <td>    0.186</td> <td>    1.407</td> <td> 0.159</td> <td>   -0.103</td> <td>    0.625</td>\n",
       "</tr>\n",
       "<tr>\n",
       "  <th>home</th>                       <td>    0.2888</td> <td>    0.063</td> <td>    4.560</td> <td> 0.000</td> <td>    0.165</td> <td>    0.413</td>\n",
       "</tr>\n",
       "</table>"
      ],
      "text/plain": [
       "<class 'statsmodels.iolib.summary.Summary'>\n",
       "\"\"\"\n",
       "                 Generalized Linear Model Regression Results                  \n",
       "==============================================================================\n",
       "Dep. Variable:                  goals   No. Observations:                  760\n",
       "Model:                            GLM   Df Residuals:                      720\n",
       "Model Family:                 Poisson   Df Model:                           39\n",
       "Link Function:                    log   Scale:                          1.0000\n",
       "Method:                          IRLS   Log-Likelihood:                -1052.3\n",
       "Date:                Wed, 05 Jun 2019   Deviance:                       796.97\n",
       "Time:                        08:51:58   Pearson chi2:                     683.\n",
       "No. Iterations:                     5   Covariance Type:             nonrobust\n",
       "==============================================================================================\n",
       "                                 coef    std err          z      P>|z|      [0.025      0.975]\n",
       "----------------------------------------------------------------------------------------------\n",
       "Intercept                      0.5427      0.189      2.878      0.004       0.173       0.912\n",
       "team[T.Bournemouth]           -0.4886      0.189     -2.580      0.010      -0.860      -0.117\n",
       "team[T.Brighton]              -0.7769      0.207     -3.745      0.000      -1.183      -0.370\n",
       "team[T.Burnley]               -0.7349      0.203     -3.612      0.000      -1.134      -0.336\n",
       "team[T.Chelsea]               -0.1912      0.172     -1.109      0.268      -0.529       0.147\n",
       "team[T.Crystal Palace]        -0.4949      0.189     -2.614      0.009      -0.866      -0.124\n",
       "team[T.Everton]               -0.5143      0.191     -2.697      0.007      -0.888      -0.141\n",
       "team[T.Huddersfield]          -0.9673      0.222     -4.354      0.000      -1.403      -0.532\n",
       "team[T.Leicester]             -0.2703      0.177     -1.523      0.128      -0.618       0.078\n",
       "team[T.Liverpool]              0.1134      0.160      0.710      0.478      -0.200       0.426\n",
       "team[T.Man City]               0.3351      0.152      2.208      0.027       0.038       0.633\n",
       "team[T.Man United]            -0.1090      0.168     -0.648      0.517      -0.439       0.221\n",
       "team[T.Newcastle]             -0.6466      0.198     -3.263      0.001      -1.035      -0.258\n",
       "team[T.Southampton]           -0.6901      0.202     -3.422      0.001      -1.085      -0.295\n",
       "team[T.Stoke]                 -0.7334      0.205     -3.569      0.000      -1.136      -0.331\n",
       "team[T.Swansea]               -0.9693      0.222     -4.364      0.000      -1.405      -0.534\n",
       "team[T.Tottenham]             -0.0159      0.165     -0.096      0.923      -0.339       0.307\n",
       "team[T.Watford]               -0.5080      0.191     -2.664      0.008      -0.882      -0.134\n",
       "team[T.West Brom]             -0.8674      0.214     -4.049      0.000      -1.287      -0.448\n",
       "team[T.West Ham]              -0.4165      0.186     -2.243      0.025      -0.780      -0.053\n",
       "opponent[T.Bournemouth]        0.1491      0.190      0.784      0.433      -0.224       0.522\n",
       "opponent[T.Brighton]           0.0155      0.196      0.079      0.937      -0.368       0.399\n",
       "opponent[T.Burnley]           -0.3084      0.213     -1.448      0.148      -0.726       0.109\n",
       "opponent[T.Chelsea]           -0.3079      0.215     -1.434      0.152      -0.729       0.113\n",
       "opponent[T.Crystal Palace]     0.0452      0.195      0.232      0.816      -0.336       0.427\n",
       "opponent[T.Everton]            0.0974      0.192      0.507      0.612      -0.279       0.474\n",
       "opponent[T.Huddersfield]       0.0809      0.192      0.421      0.674      -0.296       0.458\n",
       "opponent[T.Leicester]          0.1440      0.191      0.755      0.450      -0.230       0.518\n",
       "opponent[T.Liverpool]         -0.2847      0.215     -1.326      0.185      -0.706       0.136\n",
       "opponent[T.Man City]          -0.6041      0.238     -2.534      0.011      -1.071      -0.137\n",
       "opponent[T.Man United]        -0.6077      0.236     -2.580      0.010      -1.069      -0.146\n",
       "opponent[T.Newcastle]         -0.1185      0.203     -0.585      0.558      -0.515       0.278\n",
       "opponent[T.Southampton]        0.0550      0.194      0.284      0.777      -0.325       0.435\n",
       "opponent[T.Stoke]              0.2476      0.186      1.334      0.182      -0.116       0.611\n",
       "opponent[T.Swansea]            0.0458      0.194      0.236      0.813      -0.334       0.426\n",
       "opponent[T.Tottenham]         -0.3495      0.218     -1.603      0.109      -0.777       0.078\n",
       "opponent[T.Watford]            0.1962      0.188      1.043      0.297      -0.172       0.565\n",
       "opponent[T.West Brom]          0.0489      0.194      0.252      0.801      -0.331       0.429\n",
       "opponent[T.West Ham]           0.2612      0.186      1.407      0.159      -0.103       0.625\n",
       "home                           0.2888      0.063      4.560      0.000       0.165       0.413\n",
       "==============================================================================================\n",
       "\"\"\""
      ]
     },
     "execution_count": 15,
     "metadata": {},
     "output_type": "execute_result"
    }
   ],
   "source": [
    "model.summary()"
   ]
  },
  {
   "cell_type": "markdown",
   "metadata": {},
   "source": [
    "We are more interested in the values presented in the coef column in the model summary table,which are similar with the slopes in linear regression.A positive value implies more goals , while values closer to zero represent more neutral effects. Towards the bottom of the table you might notice that home has a coef of 0.2888 . This captures the fact that home teams generally score more goals than the away teams.\n",
    "\n",
    "For the precdiction, We pay attention to two teams: Man city and Brighton.\n",
    "Man City has an estimate of 0.3351, while the corresponding value for Brighton is -0.7769.\n",
    "\n",
    "Finally, the opponent values penalize teams based on the quality of the opposition. This reflects the defensive strength of each team (Man City: -0.6041 ; Brighton: 0.0155). In other words, you're less likely to score when you are against Man City."
   ]
  },
  {
   "cell_type": "code",
   "execution_count": 16,
   "metadata": {},
   "outputs": [
    {
     "data": {
      "text/plain": [
       "1    3.261047\n",
       "dtype: float64"
      ]
     },
     "execution_count": 16,
     "metadata": {},
     "output_type": "execute_result"
    }
   ],
   "source": [
    "model.predict(pd.DataFrame(data={'team': 'Man City', 'opponent': 'Brighton',\n",
    "                                       'home':1},index=[1]))"
   ]
  },
  {
   "cell_type": "code",
   "execution_count": 17,
   "metadata": {},
   "outputs": [
    {
     "data": {
      "text/plain": [
       "1    0.432438\n",
       "dtype: float64"
      ]
     },
     "execution_count": 17,
     "metadata": {},
     "output_type": "execute_result"
    }
   ],
   "source": [
    "model.predict(pd.DataFrame(data={'team': 'Brighton', 'opponent': 'Man City',\n",
    "                                       'home':0},index=[1]))"
   ]
  },
  {
   "cell_type": "code",
   "execution_count": 18,
   "metadata": {},
   "outputs": [
    {
     "data": {
      "text/plain": [
       "array([[0.04879001, 0.11919322, 0.14559355, 0.1185609 ],\n",
       "       [0.02816383, 0.06880378, 0.08404326, 0.06843878],\n",
       "       [0.00812873, 0.01985835, 0.02425681, 0.019753  ],\n",
       "       [0.00156409, 0.00382105, 0.00466738, 0.00380078]])"
      ]
     },
     "execution_count": 18,
     "metadata": {},
     "output_type": "execute_result"
    }
   ],
   "source": [
    "def simulate(model, homeTeam, awayTeam, max_goals=10):\n",
    "    home_goals_avg = model.predict(pd.DataFrame(data={'team': homeTeam, \n",
    "                                                            'opponent': awayTeam,'home':1},\n",
    "                                                      index=[1])).values[0]\n",
    "    away_goals_avg = model.predict(pd.DataFrame(data={'team': awayTeam, \n",
    "                                                            'opponent': homeTeam,'home':0},\n",
    "                                                      index=[1])).values[0]\n",
    "    team_pred = [[poisson.pmf(i, team_avg) for i in range(0, max_goals+1)] for team_avg in [home_goals_avg, away_goals_avg]]\n",
    "    return(np.outer(np.array(team_pred[0]), np.array(team_pred[1])))\n",
    "simulate(model, 'Brighton', 'Man City', max_goals=3)"
   ]
  },
  {
   "cell_type": "markdown",
   "metadata": {},
   "source": [
    "This matrix simply shows the probability of Brighton (rows of the matrix) and Man City (matrix columns) scoring a specific number of goals. For example, along the diagonal, both teams score the same the number of goals (e.g. P(0-0)=0.04879001). So, you can calculate the odds of draw by summing all the diagonal entries. Everything below the diagonal represents a Brighton victory (e.g P(3-0)=0.00466738), And you can estimate P(Over 2.5 goals) by summing all entries except the four values in the upper left corner. "
   ]
  },
  {
   "cell_type": "code",
   "execution_count": 21,
   "metadata": {},
   "outputs": [
    {
     "data": {
      "text/plain": [
       "0.9004369593823668"
      ]
     },
     "execution_count": 21,
     "metadata": {},
     "output_type": "execute_result"
    }
   ],
   "source": [
    "Man_sum = simulate(model, \"Man City\", \"Brighton\", max_goals=10)\n",
    "# Man City win\n",
    "np.sum(np.tril(Man_sum, -1))"
   ]
  },
  {
   "cell_type": "code",
   "execution_count": 23,
   "metadata": {},
   "outputs": [
    {
     "data": {
      "text/plain": [
       "0.07446966745918529"
      ]
     },
     "execution_count": 23,
     "metadata": {},
     "output_type": "execute_result"
    }
   ],
   "source": [
    "# draw\n",
    "np.sum(np.diag(Man_sum))"
   ]
  },
  {
   "cell_type": "code",
   "execution_count": 24,
   "metadata": {},
   "outputs": [
    {
     "data": {
      "text/plain": [
       "0.024513817158344962"
      ]
     },
     "execution_count": 24,
     "metadata": {},
     "output_type": "execute_result"
    }
   ],
   "source": [
    "# Brighton win\n",
    "np.sum(np.triu(Man_sum, 1))"
   ]
  },
  {
   "cell_type": "markdown",
   "metadata": {},
   "source": [
    "## Conclusion\n",
    "We built a simple Poisson model to predict the results of English Premier League matches.\n",
    "In conclusion, don't wager the money, but it's a good starting point for more sophisticated realistic models. "
   ]
  },
  {
   "cell_type": "code",
   "execution_count": null,
   "metadata": {},
   "outputs": [],
   "source": []
  }
 ],
 "metadata": {
  "kernelspec": {
   "display_name": "Python 3",
   "language": "python",
   "name": "python3"
  },
  "language_info": {
   "codemirror_mode": {
    "name": "ipython",
    "version": 3
   },
   "file_extension": ".py",
   "mimetype": "text/x-python",
   "name": "python",
   "nbconvert_exporter": "python",
   "pygments_lexer": "ipython3",
   "version": "3.6.7"
  }
 },
 "nbformat": 4,
 "nbformat_minor": 2
}
